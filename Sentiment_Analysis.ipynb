{
  "cells": [
    {
      "cell_type": "markdown",
      "metadata": {
        "id": "uMYkkO-YXU2w"
      },
      "source": [
        "# NLP: Sentiment Analysis"
      ]
    },
    {
      "cell_type": "markdown",
      "metadata": {
        "id": "4Aee7XI1XU27"
      },
      "source": [
        "To tackle this problem I'll make a classifier that will use a pre-trained BERT. I'll control most of my constants and other parameters from the config file which returns a dictionary. "
      ]
    },
    {
      "cell_type": "markdown",
      "metadata": {
        "id": "jbUMiyE8XU29"
      },
      "source": [
        "##### Imports & Config"
      ]
    },
    {
      "cell_type": "code",
      "execution_count": 2,
      "metadata": {
        "id": "x0ZG_2KbXU3A"
      },
      "outputs": [],
      "source": [
        "# install transformers, quietly\n",
        "!pip install -qq -q transformers"
      ]
    },
    {
      "cell_type": "code",
      "execution_count": 3,
      "metadata": {
        "id": "Uwzgoq0lXU3E"
      },
      "outputs": [],
      "source": [
        "# garbage\n",
        "import gc\n",
        "\n",
        "# configuration file \n",
        "from pyfiles.config import make_config\n",
        "\n",
        "# load & clean the data\n",
        "from pyfiles.utils import extract_data, load_clean_data\n",
        "\n",
        "# data loader \n",
        "from pyfiles.utils import data2loader\n",
        "\n",
        "# data analysis \n",
        "from pyfiles.exploredata import data_info\n",
        "from pyfiles.exploredata import max_seq_length\n",
        "\n",
        "# model\n",
        "from pyfiles.model import BertFeels\n",
        "\n",
        "# trainer \n",
        "from pyfiles.trainer import train_model\n",
        "# eval\n",
        "from pyfiles.eval import eval_one_epoch\n",
        "\n",
        "# predicting \n",
        "from pyfiles.predict import make_final_predictions\n",
        "\n",
        "#torch \n",
        "from torch.nn import CrossEntropyLoss\n",
        "from torch.cuda import empty_cache\n",
        "from torch.optim import AdamW\n",
        "\n",
        "# data splitting \n",
        "from sklearn.model_selection import train_test_split\n",
        "\n",
        "# transformerss!\n",
        "from transformers import BertTokenizer, get_linear_schedule_with_warmup"
      ]
    },
    {
      "cell_type": "code",
      "execution_count": 4,
      "metadata": {
        "id": "mAHsxNi4XU3J"
      },
      "outputs": [],
      "source": [
        "# assign my configurations\n",
        "config_dict = make_config()\n",
        "\n",
        "# also loading the tokenizer already \n",
        "tokenizer = BertTokenizer.from_pretrained(config_dict['PRE_TRAINED_MODEL'])"
      ]
    },
    {
      "cell_type": "markdown",
      "metadata": {
        "id": "5tWla6xuXU3M"
      },
      "source": [
        "##### Extract & Load Data"
      ]
    },
    {
      "cell_type": "code",
      "execution_count": 5,
      "metadata": {
        "colab": {
          "base_uri": "https://localhost:8080/"
        },
        "id": "RdEUuOBkXU3N",
        "outputId": "41f753b7-2b6a-4e31-a126-0a6811d003e0"
      },
      "outputs": [
        {
          "name": "stdout",
          "output_type": "stream",
          "text": [
            "Extracted ./dataset.zip to ./data\n"
          ]
        }
      ],
      "source": [
        "# extracting the zip file \n",
        "extract_data(zip_file = config_dict['DATA'],\n",
        "             dir_to_make = config_dict['DATA_DIR'],\n",
        "             remove_zip=False)\n",
        "\n",
        "# list of dataframes with the loaded data \n",
        "df_list = load_clean_data(data_dir=config_dict['DATA_DIR'])"
      ]
    },
    {
      "cell_type": "markdown",
      "metadata": {
        "id": "HyGbu8EcXU3P"
      },
      "source": [
        "##### Exploratory Data Analysis (EDA)"
      ]
    },
    {
      "cell_type": "markdown",
      "metadata": {
        "id": "iS7aJt7VXU3R"
      },
      "source": [
        "Here I will have a quick overview of the data, taking a look at both the training and the testing dataset. I will look at: \n",
        "- Number of instances\n",
        "- Number of empty (null) or NaNs\n",
        "- Class (im)balance"
      ]
    },
    {
      "cell_type": "code",
      "execution_count": 6,
      "metadata": {
        "colab": {
          "base_uri": "https://localhost:8080/",
          "height": 1000
        },
        "id": "-nGInvMuXU3S",
        "outputId": "48e6cdd3-2248-46d2-8ac6-6e14d7fd6f68"
      },
      "outputs": [
        {
          "name": "stdout",
          "output_type": "stream",
          "text": [
            "\u001b[31mTESTING\u001b[0m \n",
            "\n",
            "Number of examples = 359\n",
            "\n",
            "Number of empty values = 0\n",
            "\n",
            "Random Tweet Sample:\n",
            "Label: 0.0\n",
            "Tweet: Just got mcdonalds goddam those eggs make me sick. O yeah Laker up date go lakers. Not much of an update? Well it's true so suck it\n",
            "\n"
          ]
        },
        {
          "data": {
            "image/png": "[encoded data removed]",
            "text/plain": [
              "<Figure size 432x288 with 1 Axes>"
            ]
          },
          "metadata": {
            "needs_background": "light"
          },
          "output_type": "display_data"
        },
        {
          "name": "stdout",
          "output_type": "stream",
          "text": [
            "label\n",
            "1.0    50.696379\n",
            "0.0    49.303621\n",
            "dtype: float64 \n",
            "\n",
            "\u001b[31mTRAINING\u001b[0m \n",
            "\n",
            "Number of examples = 13000\n",
            "\n",
            "Number of empty values = 0\n",
            "\n",
            "Random Tweet Sample:\n",
            "Label: 0\n",
            "Tweet: @twista202 I still haven't read the 9th&amp;10th Princess diaries  Saving Francesca made me cry at the end. Hmm those are easy books.\n",
            "\n"
          ]
        },
        {
          "data": {
            "image/png": "[encoded data removed]",
            "text/plain": [
              "<Figure size 432x288 with 1 Axes>"
            ]
          },
          "metadata": {
            "needs_background": "light"
          },
          "output_type": "display_data"
        },
        {
          "name": "stdout",
          "output_type": "stream",
          "text": [
            "label\n",
            "1    76.923077\n",
            "0    23.076923\n",
            "dtype: float64 \n",
            "\n"
          ]
        }
      ],
      "source": [
        "# overview - some sample information about the data\n",
        "data_info(df_list,\n",
        "          data_split=['Testing','Training'],\n",
        "          random_sample=True,\n",
        "          visualize=True)"
      ]
    },
    {
      "cell_type": "markdown",
      "metadata": {
        "id": "ctKnPJpPXU3V"
      },
      "source": [
        "Finding the maximum sequence length in the corpus"
      ]
    },
    {
      "cell_type": "code",
      "execution_count": 7,
      "metadata": {
        "colab": {
          "base_uri": "https://localhost:8080/",
          "height": 472
        },
        "id": "rwZ-w-T-XU3W",
        "outputId": "79d07f4f-9013-47a3-fb53-c4e10ef61d47"
      },
      "outputs": [
        {
          "data": {
            "image/png": "[encoded data removed]",
            "text/plain": [
              "<Figure size 432x288 with 1 Axes>"
            ]
          },
          "metadata": {
            "needs_background": "light"
          },
          "output_type": "display_data"
        },
        {
          "name": "stdout",
          "output_type": "stream",
          "text": [
            "                  0\n",
            "count  13359.000000\n",
            "mean      24.716895\n",
            "std       11.411275\n",
            "min        3.000000\n",
            "25%       16.000000\n",
            "50%       23.000000\n",
            "75%       33.000000\n",
            "max       80.000000\n",
            "\n",
            "The max len in the entire dataset is 80, 200 difference from initial guess\n"
          ]
        }
      ],
      "source": [
        "# it will give a distribution of the tokens and return the max length as well. \n",
        "# Counts the total (training + test) datapoints\n",
        "max_len = max_seq_length(df_list,tokenizer,visualize=True,return_stats=True)\n",
        "# Compared to the initial guess how many tokens am I off?\n",
        "print(f\"\\nThe max len in the entire dataset is {max_len}, {abs(config_dict['OLD_MAX_LENGTH']-max_len)} difference from initial guess\")"
      ]
    },
    {
      "cell_type": "markdown",
      "metadata": {
        "id": "tf4RsETtXU3X"
      },
      "source": [
        "##### Dataset & DataLoaders"
      ]
    },
    {
      "cell_type": "markdown",
      "metadata": {
        "id": "6k1M4Th6XU3Y"
      },
      "source": [
        "The tabular data needs to be processed correctly when being passed through BERT, as well as having the right dimensions when stepping through a model. Here the dataset will be created when calling the \"make_data_loader\" for each variable"
      ]
    },
    {
      "cell_type": "code",
      "execution_count": 18,
      "metadata": {
        "id": "FPK47RoeXU3Z"
      },
      "outputs": [],
      "source": [
        "# separate dataframes\n",
        "df_test, df_train = df_list \n",
        "\n",
        "# splitting the initial training dataset into a train and validation one using a val split of 20% to validate during the training procedure\n",
        "df_train, df_val = train_test_split(df_train,\n",
        "                                    test_size=config_dict['VAL_SIZE'],\n",
        "                                    random_state=config_dict['RANDOM_STATE'])"
      ]
    },
    {
      "cell_type": "code",
      "execution_count": 19,
      "metadata": {
        "id": "qzfGzKEUXU3a"
      },
      "outputs": [],
      "source": [
        "# Dataset with DataLoader\n",
        "# Training\n",
        "train_loader = data2loader(dataframe=df_train,\n",
        "                           tokenizer=tokenizer,\n",
        "                           max_length=config_dict['MAX_LENGTH'],\n",
        "                           batch_size=config_dict['BATCH_SIZE'])\n",
        "\n",
        "# Validation \n",
        "val_loader = data2loader(dataframe=df_val,\n",
        "                           tokenizer=tokenizer,\n",
        "                           max_length=config_dict['MAX_LENGTH'],\n",
        "                           batch_size=config_dict['BATCH_SIZE'])\n",
        "\n",
        "# Testing\n",
        "test_loader = data2loader(dataframe=df_test,\n",
        "                           tokenizer=tokenizer,\n",
        "                           max_length=config_dict['MAX_LENGTH'],\n",
        "                           batch_size=config_dict['BATCH_SIZE'])"
      ]
    },
    {
      "cell_type": "markdown",
      "metadata": {
        "id": "cTgPRTL7XU3b"
      },
      "source": [
        "##### Model, Optimizer, Scheduler & Loss Function"
      ]
    },
    {
      "cell_type": "code",
      "execution_count": 20,
      "metadata": {
        "colab": {
          "base_uri": "https://localhost:8080/"
        },
        "id": "nCRk2swrXU3d",
        "outputId": "f9637851-7c0d-49d0-898e-8c29b5745ff4"
      },
      "outputs": [
        {
          "data": {
            "text/plain": [
              "227"
            ]
          },
          "execution_count": 20,
          "metadata": {},
          "output_type": "execute_result"
        }
      ],
      "source": [
        "# instantiate the model and send to device \n",
        "model = BertFeels(config_dict['NUM_CLASSES'])\n",
        "model = model.to(config_dict['DEVICE'])\n",
        "\n",
        "# Optimizer \n",
        "optimizer = AdamW(model.parameters(),\n",
        "                  lr=config_dict['LEARNING_RATE'])\n",
        "\n",
        "# Scheduler\n",
        "scheduler = get_linear_schedule_with_warmup(optimizer,\n",
        "                                            num_warmup_steps=0,\n",
        "                                            num_training_steps=len(train_loader) * config_dict['EPOCHS']) # Total number of steps \n",
        "\n",
        "# Criteria - Loss Function\n",
        "criterion = CrossEntropyLoss().to(config_dict['DEVICE'])\n",
        "\n",
        "# just in case clean cache & garbage\n",
        "empty_cache()\n",
        "gc.collect()"
      ]
    },
    {
      "cell_type": "markdown",
      "metadata": {
        "id": "4u7uDCQ-XU3f"
      },
      "source": [
        "##### Training & Saving of the model"
      ]
    },
    {
      "cell_type": "markdown",
      "metadata": {
        "id": "eCAJzvL5XU3g"
      },
      "source": [
        "Training of the model as well as an extra validation step included to have some feedback and save the best performing model. Model saving can be turned on or off in the config file as well.\n",
        "\n"
      ]
    },
    {
      "cell_type": "code",
      "execution_count": 21,
      "metadata": {
        "colab": {
          "base_uri": "https://localhost:8080/"
        },
        "id": "a6YgzIioXU3h",
        "outputId": "dc062bef-da79-4fcb-f000-7cc511134c9f"
      },
      "outputs": [
        {
          "name": "stdout",
          "output_type": "stream",
          "text": [
            "\u001b[36m\n",
            "~BATCH STEP~ 1: ACCURACY: 0.0003846153846153846 LOSS: 1.1682099103927612\u001b[0m\n",
            "\u001b[36m\n",
            "~BATCH STEP~ 101: ACCURACY: 0.11634615384615385 LOSS: 0.5361779630184174\u001b[0m\n",
            "\u001b[36m\n",
            "~BATCH STEP~ 201: ACCURACY: 0.24259615384615385 LOSS: 0.4720298321315305\u001b[0m\n",
            "\u001b[36m\n",
            "~BATCH STEP~ 301: ACCURACY: 0.3729807692307692 LOSS: 0.4398237024480322\u001b[0m\n",
            "\u001b[36m\n",
            "~BATCH STEP~ 401: ACCURACY: 0.50125 LOSS: 0.42340079720998347\u001b[0m\n",
            "\u001b[36m\n",
            "~BATCH STEP~ 501: ACCURACY: 0.6322115384615384 LOSS: 0.4137903733138077\u001b[0m\n",
            "\u001b[36m\n",
            "~BATCH STEP~ 601: ACCURACY: 0.7624038461538462 LOSS: 0.40803769197990614\u001b[0m\n",
            "\u001b[40m\u001b[32m\n",
            "TRAINING -- EPOCH: 1 ACCURACY: 0.8254807692307692 LOSS: 0.4067910624180849\u001b[0m\n",
            "\u001b[1m\u001b[44m\u001b[37m\n",
            "VALIDATION -- EPOCH: 1 ACCURACY: 0.8588461538461538 LOSS: 0.34033791035230904\u001b[0m\n",
            "\u001b[36m\n",
            "~BATCH STEP~ 1: ACCURACY: 0.0011538461538461537 LOSS: 0.4262120723724365\u001b[0m\n",
            "\u001b[36m\n",
            "~BATCH STEP~ 101: ACCURACY: 0.13375 LOSS: 0.3121995550423565\u001b[0m\n",
            "\u001b[36m\n",
            "~BATCH STEP~ 201: ACCURACY: 0.27403846153846156 LOSS: 0.2828406347378866\u001b[0m\n",
            "\u001b[36m\n",
            "~BATCH STEP~ 301: ACCURACY: 0.41346153846153844 LOSS: 0.27176638817618853\u001b[0m\n",
            "\u001b[36m\n",
            "~BATCH STEP~ 401: ACCURACY: 0.5538461538461539 LOSS: 0.26290448013219303\u001b[0m\n",
            "\u001b[36m\n",
            "~BATCH STEP~ 501: ACCURACY: 0.6951923076923077 LOSS: 0.26106231072601566\u001b[0m\n",
            "\u001b[36m\n",
            "~BATCH STEP~ 601: ACCURACY: 0.8356730769230769 LOSS: 0.26094308069065686\u001b[0m\n",
            "\u001b[40m\u001b[32m\n",
            "TRAINING -- EPOCH: 2 ACCURACY: 0.9031730769230769 LOSS: 0.2630657840004334\u001b[0m\n",
            "\u001b[1m\u001b[44m\u001b[37m\n",
            "VALIDATION -- EPOCH: 2 ACCURACY: 0.8519230769230769 LOSS: 0.4082300795093636\u001b[0m\n",
            "\u001b[36m\n",
            "~BATCH STEP~ 1: ACCURACY: 0.0015384615384615385 LOSS: 0.15270432829856873\u001b[0m\n",
            "\u001b[36m\n",
            "~BATCH STEP~ 101: ACCURACY: 0.14375 LOSS: 0.1986177041665605\u001b[0m\n",
            "\u001b[36m\n",
            "~BATCH STEP~ 201: ACCURACY: 0.2910576923076923 LOSS: 0.1786785829923491\u001b[0m\n",
            "\u001b[36m\n",
            "~BATCH STEP~ 301: ACCURACY: 0.43740384615384614 LOSS: 0.17192659056606235\u001b[0m\n",
            "\u001b[36m\n",
            "~BATCH STEP~ 401: ACCURACY: 0.5856730769230769 LOSS: 0.16189807712070253\u001b[0m\n",
            "\u001b[36m\n",
            "~BATCH STEP~ 501: ACCURACY: 0.7330769230769231 LOSS: 0.16172564396971165\u001b[0m\n",
            "\u001b[36m\n",
            "~BATCH STEP~ 601: ACCURACY: 0.8789423076923077 LOSS: 0.16622388181075168\u001b[0m\n",
            "\u001b[40m\u001b[32m\n",
            "TRAINING -- EPOCH: 3 ACCURACY: 0.9492307692307692 LOSS: 0.17169143488666472\u001b[0m\n",
            "\u001b[1m\u001b[44m\u001b[37m\n",
            "VALIDATION -- EPOCH: 3 ACCURACY: 0.8526923076923076 LOSS: 0.55962061566055\u001b[0m\n"
          ]
        }
      ],
      "source": [
        "# Training the model with feedback \n",
        "# batch steps will be shown to have some feedback as well as a validation loop \n",
        "history = train_model(model        = model,\n",
        "                      train_loader = train_loader,\n",
        "                      val_loader   = val_loader,\n",
        "                      optimizer    = optimizer, \n",
        "                      scheduler    = scheduler, \n",
        "                      criteria     = criterion, \n",
        "                      df_train     = df_train,\n",
        "                      df_val       = df_val,\n",
        "                      epochs       = config_dict['EPOCHS'],\n",
        "                      device       = config_dict['DEVICE'],\n",
        "                      verbose      = config_dict['VERBOSE_STEP'],\n",
        "                      save_model   = config_dict['SAVE_MODEL'])"
      ]
    },
    {
      "cell_type": "markdown",
      "metadata": {
        "id": "yj6zJHOyXU3i"
      },
      "source": [
        "##### Testing the model + Metrics"
      ]
    },
    {
      "cell_type": "markdown",
      "metadata": {
        "id": "qdMAspLAXU3i"
      },
      "source": [
        "The model will be tested as well as the reporting of the metrics will happen. \n",
        "The following metrics & graphs are shown: \n",
        "- Accuracy, Loss,\n",
        "- Precision, Recall, F-1 & Support\n",
        "- Confusion Matrix, ROC & PR Curve"
      ]
    },
    {
      "cell_type": "code",
      "execution_count": 23,
      "metadata": {
        "colab": {
          "base_uri": "https://localhost:8080/"
        },
        "id": "wOGeKCQabN8Q",
        "outputId": "22a331c5-1413-47ca-b89e-920981089890"
      },
      "outputs": [
        {
          "data": {
            "text/plain": [
              "170"
            ]
          },
          "execution_count": 23,
          "metadata": {},
          "output_type": "execute_result"
        }
      ],
      "source": [
        "# just in case\n",
        "empty_cache()\n",
        "gc.collect()"
      ]
    },
    {
      "cell_type": "code",
      "execution_count": 24,
      "metadata": {
        "colab": {
          "base_uri": "https://localhost:8080/",
          "height": 1000
        },
        "id": "P-LrP_JIXU3j",
        "outputId": "4a2f954e-56e2-4d9d-eea1-2501284ef047"
      },
      "outputs": [
        {
          "name": "stdout",
          "output_type": "stream",
          "text": [
            "\n",
            "The Metrics Reported: \n",
            "\n",
            "-->Training Accuracy & Loss: \n",
            "\n"
          ]
        },
        {
          "data": {
            "image/png": "[encoded data removed]",
            "text/plain": [
              "<Figure size 432x288 with 1 Axes>"
            ]
          },
          "metadata": {
            "needs_background": "light"
          },
          "output_type": "display_data"
        },
        {
          "name": "stdout",
          "output_type": "stream",
          "text": [
            "\n",
            "-->Validation Accuracy & Loss: \n",
            "\n"
          ]
        },
        {
          "data": {
            "image/png": "[encoded data removed]",
            "text/plain": [
              "<Figure size 432x288 with 1 Axes>"
            ]
          },
          "metadata": {
            "needs_background": "light"
          },
          "output_type": "display_data"
        },
        {
          "name": "stdout",
          "output_type": "stream",
          "text": [
            "              precision    recall  f1-score   support\n",
            "\n",
            "    Negative       0.89      0.63      0.74       177\n",
            "    Positive       0.72      0.92      0.81       182\n",
            "\n",
            "    accuracy                           0.78       359\n",
            "   macro avg       0.80      0.78      0.77       359\n",
            "weighted avg       0.80      0.78      0.77       359\n",
            "\n",
            "\n",
            "--> Confusion Matrix: \n",
            "\n"
          ]
        },
        {
          "data": {
            "image/png": "[encoded data removed]",
            "text/plain": [
              "<Figure size 432x288 with 2 Axes>"
            ]
          },
          "metadata": {
            "needs_background": "light"
          },
          "output_type": "display_data"
        },
        {
          "name": "stdout",
          "output_type": "stream",
          "text": [
            "\n",
            "--> ROC Curve: \n",
            "\n"
          ]
        },
        {
          "data": {
            "image/png": "[encoded data removed]",
            "text/plain": [
              "<Figure size 432x288 with 1 Axes>"
            ]
          },
          "metadata": {
            "needs_background": "light"
          },
          "output_type": "display_data"
        },
        {
          "name": "stdout",
          "output_type": "stream",
          "text": [
            "\n",
            "--> PR Curve: \n",
            "\n"
          ]
        },
        {
          "data": {
            "image/png": "[encoded data removed]",
            "text/plain": [
              "<Figure size 432x288 with 1 Axes>"
            ]
          },
          "metadata": {
            "needs_background": "light"
          },
          "output_type": "display_data"
        }
      ],
      "source": [
        "# this will run the evaluation & return metrics \n",
        "make_final_predictions(history, model, test_loader, criterion)"
      ]
    },
    {
      "cell_type": "markdown",
      "metadata": {},
      "source": [
        "This is a classification task, so looking solely at accuracy is not a good indicator. The confusion matrix, roc and pr curve should help understand what is happening with the model. For example looking at the confusion matrix we can see that the model has problems really predicting whether something is negative or not. Out of all the negatives it predicted 65 times wrongly, which is about ~36%. This can also be traced back to the imbalance of the dataset initially. \n",
        "\n",
        "For a comparisson of the different runs and their corresponding metrics can be found here:\n",
        "\n",
        "\n",
        "- https://wandb.ai/walzter/IOMED-NLP-TEST/reports/Reporting-Metrics--VmlldzoxNTI3NzA0?accessToken=rrqaxmzaoa26r6c4qlkpccerx29sbm2057ngz0p1byigt0dq3tyyfa5ts6rhmas6\n",
        "\n",
        "\n",
        "The tracking initially was done with Wandb, and then to submit all the wandb usages were commented off so that it run without a problem. "
      ]
    },
    {
      "cell_type": "code",
      "execution_count": 26,
      "metadata": {
        "colab": {
          "base_uri": "https://localhost:8080/"
        },
        "id": "mMbW-KekXU3k",
        "outputId": "12a101a1-4e33-4b27-c7eb-5dde0ba8aed2"
      },
      "outputs": [
        {
          "name": "stdout",
          "output_type": "stream",
          "text": [
            "0.7688022284122563\n"
          ]
        }
      ],
      "source": [
        "# getting the final test accuracy\n",
        "test_acc, _ = eval_one_epoch(test_loader, \n",
        "                            model, \n",
        "                            criterion, \n",
        "                            config_dict['DEVICE'], \n",
        "                            num_batches=len(df_test))\n",
        "# printing it \n",
        "print(test_acc.item())"
      ]
    }
  ],
  "metadata": {
    "accelerator": "GPU",
    "colab": {
      "collapsed_sections": [
        "cTgPRTL7XU3b"
      ],
      "name": "Sentiment_Analysis.ipynb",
      "provenance": []
    },
    "interpreter": {
      "hash": "ac6858c3dbc49267e902ff986705b591b9d7b57befff84fd7d814fe16c4a8e1f"
    },
    "kernelspec": {
      "display_name": "Python 3.8.5 64-bit (conda)",
      "language": "python",
      "name": "python3"
    },
    "language_info": {
      "codemirror_mode": {
        "name": "ipython",
        "version": 3
      },
      "file_extension": ".py",
      "mimetype": "text/x-python",
      "name": "python",
      "nbconvert_exporter": "python",
      "pygments_lexer": "ipython3",
      "version": "3.8.5"
    },
    "orig_nbformat": 4
  },
  "nbformat": 4,
  "nbformat_minor": 0
}
